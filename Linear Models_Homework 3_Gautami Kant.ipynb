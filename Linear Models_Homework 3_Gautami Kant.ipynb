{
 "cells": [
  {
   "cell_type": "markdown",
   "id": "f1f6370d-d0f2-44dc-9ea2-9250f469ad76",
   "metadata": {},
   "source": [
    "Lab3: Wide data and linear models\n",
    "You are provided with a dataset for 554 patients, 80% (444 patients) of the dataset was selected to be the training set, and 20% (110 patients) as the test set. Features and labels of the training set can be found in train_X.csv, train_y.csv respectively. Features of the test set can be found in test_X.csv while labels are hidden.\n",
    "\n",
    "Your task is to predict the disease type (phenotype) from transcriptomics data. Disease: UCEC (uterine corpus endometrial carcinoma). Labels (1/0) are encoding tumor grade “II-” vs. “III+”\n",
    "\n",
    "Specific tasks:\n",
    "Please use binary classification (0/1) using linear models. Measure the classification performance using accuracy and F1-score on the given validation set. Please report averaged values.\n",
    "Develop a pipeline to try different linear models (linear regression, logistic regression, Ridge regression, LASSO, etc.)\n",
    "Study the effect of regularization parameters on model performance. What model is the best?\n",
    "Compare your best model accuracy with random guessing (Hint: scramble labels aka Y-randomization)\n",
    "What are the top important genes for the model decision?\n",
    "Try to visualize the dataset and see if you could visually separate two groups of patients\n",
    "Bonus Qs:\n",
    "You could use https://www.uniprot.org/Links to an external site, and search for Gene IDs. See if there is a meaningful connection between the top 10 most important genes and disease. Did your model recapitulate of the known association between Genes and Disease?"
   ]
  },
  {
   "cell_type": "code",
   "execution_count": 15,
   "id": "8dbb2f9d-cd74-4be0-b859-f9ceeefaeb18",
   "metadata": {},
   "outputs": [],
   "source": [
    "import pandas as pd\n",
    "import numpy as np\n",
    "import matplotlib.pyplot as plt\n",
    "import seaborn as sns\n",
    "from sklearn import metrics\n",
    "from sklearn import preprocessing\n",
    "from sklearn.feature_selection import SelectKBest, mutual_info_classif, chi2\n",
    "from sklearn.linear_model import LogisticRegression\n",
    "from sklearn.linear_model import LinearRegression\n",
    "from sklearn.linear_model import Ridge\n",
    "from sklearn.linear_model import Lasso\n",
    "from sklearn.svm import LinearSVC\n",
    "from sklearn.linear_model import Perceptron\n",
    "from sklearn.linear_model import RidgeClassifierCV\n",
    "from sklearn.linear_model import SGDClassifier\n",
    "from sklearn.linear_model import SGDOneClassSVM\n",
    "from sklearn.linear_model import LogisticRegressionCV\n",
    "from sklearn.linear_model import PassiveAggressiveClassifier\n",
    "from sklearn.linear_model import SGDClassifier # Read about this and implement\n",
    "from sklearn.pipeline import make_pipeline  # Read about this and implement\n",
    "from sklearn.pipeline import Pipeline\n",
    "from y_scramble import Scrambler\n"
   ]
  },
  {
   "cell_type": "code",
   "execution_count": 8,
   "id": "5c318550-b301-4430-9a82-8a00225e3ff8",
   "metadata": {},
   "outputs": [],
   "source": [
    " # Loading the csv files\n",
    "X_train = pd.read_csv(r\"C:\\Users\\kantg\\OneDrive\\Desktop\\CMU\\ML for Science\\HW 3\\train_X.csv\")\n",
    "y_train = pd.read_csv(r\"C:\\Users\\kantg\\OneDrive\\Desktop\\CMU\\ML for Science\\HW 3\\train_y.csv\")\n",
    "X_test = pd.read_csv(r\"C:\\Users\\kantg\\OneDrive\\Desktop\\CMU\\ML for Science\\HW 3\\test_X.csv\")"
   ]
  },
  {
   "cell_type": "code",
   "execution_count": 4,
   "id": "f389d4b4-30ba-4043-b216-e9e4159b3c16",
   "metadata": {
    "tags": []
   },
   "outputs": [
    {
     "name": "stdout",
     "output_type": "stream",
     "text": [
      "Nulls in X_train is  0\n",
      "Nulls in y_train is  0\n",
      "Nulls in X_test is  0\n",
      "Non-numeric columns in X_train are ['Unnamed: 0']\n",
      "Non-numeric columns in y_train are ['Unnamed: 0']\n",
      "Non-numeric columns in X_test are ['Unnamed: 0']\n"
     ]
    }
   ],
   "source": [
    "# Checking for nulls. No nulls in the training and test data set\n",
    "print(\"Nulls in X_train is \", X_train.isna().sum().sum())\n",
    "print(\"Nulls in y_train is \", y_train.isna().sum().sum())\n",
    "print(\"Nulls in X_test is \", X_test.isna().sum().sum())\n",
    "\n",
    "#Checking for non-integer columns. Looks like only the identifier column has object data type\n",
    "print(\"Non-numeric columns in X_train are\", X_train.select_dtypes(include=['object']).columns.tolist())\n",
    "print(\"Non-numeric columns in y_train are\", y_train.select_dtypes(include=['object']).columns.tolist())\n",
    "print(\"Non-numeric columns in X_test are\", X_test.select_dtypes(include=['object']).columns.tolist())"
   ]
  },
  {
   "cell_type": "code",
   "execution_count": 9,
   "id": "0ecb7709-6354-4803-9a16-ea5190b186e8",
   "metadata": {
    "tags": []
   },
   "outputs": [
    {
     "name": "stdout",
     "output_type": "stream",
     "text": [
      "<class 'pandas.core.frame.DataFrame'>\n",
      "RangeIndex: 444 entries, 0 to 443\n",
      "Data columns (total 2 columns):\n",
      " #   Column                         Non-Null Count  Dtype \n",
      "---  ------                         --------------  ----- \n",
      " 0   Unnamed: 0                     444 non-null    object\n",
      " 1   xml_neoplasm_histologic_grade  444 non-null    int64 \n",
      "dtypes: int64(1), object(1)\n",
      "memory usage: 7.1+ KB\n",
      "                               Unnamed: 0\n",
      "xml_neoplasm_histologic_grade            \n",
      "0                                     190\n",
      "1                                     254\n"
     ]
    }
   ],
   "source": [
    "#Exploring the y_train data\n",
    "y_train.info()\n",
    "# Classes are not imbalanced. Overall % - 0 (43%) and 1 (57%) ----- INCLUDE CODE FOR THIS!!!\n",
    "print(y_train.groupby(['xml_neoplasm_histologic_grade']).count())\n",
    "\n",
    "#Scaling the training and test data set\n",
    "X_train_1 = X_train.iloc[:,1:]\n",
    "#scaler = preprocessing.StandardScaler().fit(X_train_1)\n",
    "#X_train_1 = pd.DataFrame(scaler.transform(X_train_1),columns= X_train_1.columns, index = X_train_1.index) \n",
    "\n",
    "X_test_1 = X_test.iloc[:,1:]\n",
    "#scaler = preprocessing.StandardScaler().fit(X_test_1)\n",
    "#X_test_1 = pd.DataFrame(scaler.transform(X_test_1),columns= X_test_1.columns, index = X_test_1.index) \n",
    "\n",
    "\n",
    "y_train_1 = y_train.iloc[:,1]\n"
   ]
  },
  {
   "cell_type": "code",
   "execution_count": 221,
   "id": "9a8b9531-dedc-4b17-8dce-b4013111bfab",
   "metadata": {
    "jupyter": {
     "source_hidden": true
    },
    "tags": []
   },
   "outputs": [],
   "source": [
    "# Logistic regression\n",
    "\n",
    "log_reg = LogisticRegression(random_state=6,max_iter=200)\n",
    "log_reg.fit(X_train_1, y_train_1)\n",
    "\n",
    "#Predicting the test set results\n",
    "y_test = log_reg.predict(X_test_1)\n",
    "\n",
    "# Output to a csv file\n",
    "X_test_with_prediction = X_test\n",
    "X_test_with_prediction['xml_neoplasm_histologic_grade'] = y_test\n",
    "X_test_with_prediction_output =  X_test_with_prediction.iloc[:, [0, -1]]\n",
    "X_test_with_prediction_output = X_test_with_prediction_output.rename(columns={'Unnamed: 0' : 'ID'})\n",
    "X_test_with_prediction_output.to_csv(r'C:\\Users\\kantg\\OneDrive\\Desktop\\CMU\\ML for Science\\HW 3\\Output\\X_test_with_prediction_output.csv',index=None, header=True)\n"
   ]
  },
  {
   "cell_type": "code",
   "execution_count": 225,
   "id": "bf4c2374-783c-4230-879a-5c1f173f7d68",
   "metadata": {
    "collapsed": true,
    "jupyter": {
     "outputs_hidden": true,
     "source_hidden": true
    },
    "tags": []
   },
   "outputs": [
    {
     "data": {
      "image/png": "[encoded data removed]",
      "text/plain": [
       "<Figure size 432x288 with 1 Axes>"
      ]
     },
     "metadata": {
      "needs_background": "light"
     },
     "output_type": "display_data"
    }
   ],
   "source": [
    "# Linear Regression\n",
    "\n",
    "lin_reg = LinearRegression()\n",
    "lin_reg.fit(X_train_1, y_train_1)\n",
    "\n",
    "#Predicting the test set results\n",
    "y_test = lin_reg.predict(X_test_1)\n",
    "plot_1 = plt.hist(y_test, bins = 10)\n",
    "# Setting the threshold to decide 0/1 classifier\n",
    "y_test = np.where(y_test < 0.5, 0 , 1) #86.56\n",
    "#y_test = np.where(y_test < 0.6, 0 , 1) #85.24\n",
    "#y_test = np.where(y_test < 0.4, 0 , 1) #86.56\n",
    "\n",
    "plot_2 = plt.hist(y_test)\n",
    "\n",
    "\n",
    "#Output to a csv file\n",
    "X_test_with_prediction = X_test\n",
    "X_test_with_prediction['xml_neoplasm_histologic_grade'] = y_test\n",
    "X_test_with_prediction_output =  X_test_with_prediction.iloc[:, [0, -1]]\n",
    "X_test_with_prediction_output = X_test_with_prediction_output.rename(columns={'Unnamed: 0' : 'ID'})\n",
    "X_test_with_prediction_output.to_csv(r'C:\\Users\\kantg\\OneDrive\\Desktop\\CMU\\ML for Science\\HW 3\\Output\\X_test_with_prediction_output.csv',index=None, header=True)\n",
    "\n"
   ]
  },
  {
   "cell_type": "code",
   "execution_count": 282,
   "id": "d3a23e31-65c0-4f37-8aa2-d53ebb64779f",
   "metadata": {
    "collapsed": true,
    "jupyter": {
     "outputs_hidden": true
    },
    "tags": []
   },
   "outputs": [
    {
     "data": {
      "text/plain": [
       "array([1, 0, 0, 1, 0, 1, 1, 0, 1, 1, 1, 1, 1, 0, 0, 1, 1, 0, 1, 1, 1, 1,\n",
       "       0, 1, 1, 1, 1, 1, 1, 1, 1, 0, 0, 1, 0, 1, 1, 1, 1, 1, 1, 1, 0, 0,\n",
       "       0, 1, 1, 1, 0, 1, 1, 1, 0, 1, 0, 1, 1, 0, 1, 1, 1, 1, 0, 1, 1, 0,\n",
       "       1, 1, 1, 1, 0, 0, 0, 1, 1, 0, 1, 1, 0, 0, 0, 1, 1, 1, 1, 1, 1, 1,\n",
       "       1, 0, 1, 1, 0, 1, 0, 1, 1, 0, 0, 1, 0, 1, 1, 0, 1, 1, 0, 0, 1, 1])"
      ]
     },
     "execution_count": 282,
     "metadata": {},
     "output_type": "execute_result"
    }
   ],
   "source": [
    "y_test"
   ]
  },
  {
   "cell_type": "code",
   "execution_count": 8,
   "id": "eea8a552-88b6-4772-a442-4c5b6be1616d",
   "metadata": {
    "collapsed": true,
    "jupyter": {
     "outputs_hidden": true,
     "source_hidden": true
    },
    "tags": []
   },
   "outputs": [
    {
     "data": {
      "image/png": "[encoded data removed]",
      "text/plain": [
       "<Figure size 432x288 with 1 Axes>"
      ]
     },
     "metadata": {
      "needs_background": "light"
     },
     "output_type": "display_data"
    }
   ],
   "source": [
    "# Ridge Regression\n",
    "\n",
    "rid_reg = Ridge(alpha = 0.75)\n",
    "rid_reg.fit(X_train_1, y_train_1)\n",
    "\n",
    "#Predicting the test set results\n",
    "y_test = rid_reg.predict(X_test_1)\n",
    "plot_1 = plt.hist(y_test, bins = 10)\n",
    "\n",
    "\n",
    "# Setting the threshold to decide 0/1 classifier\n",
    "y_test = np.where(y_test < 0.5, 0 ,1) #86.56\n",
    "plot_2 = plt.hist(y_test)\n",
    "\n",
    "#Output to a csv file\n",
    "X_test_with_prediction = X_test\n",
    "X_test_with_prediction['xml_neoplasm_histologic_grade'] = y_test\n",
    "X_test_with_prediction_output =  X_test_with_prediction.iloc[:, [0, -1]]\n",
    "X_test_with_prediction_output = X_test_with_prediction_output.rename(columns={'Unnamed: 0' : 'ID'})\n",
    "X_test_with_prediction_output.to_csv(r'C:\\Users\\kantg\\OneDrive\\Desktop\\CMU\\ML for Science\\HW 3\\Output\\X_test_with_prediction_output.csv',index=None, header=True)\n"
   ]
  },
  {
   "cell_type": "code",
   "execution_count": 9,
   "id": "394ffaee-25b6-4487-b153-009b5e390c66",
   "metadata": {
    "collapsed": true,
    "jupyter": {
     "outputs_hidden": true,
     "source_hidden": true
    },
    "tags": []
   },
   "outputs": [
    {
     "data": {
      "image/png": "[encoded data removed]",
      "text/plain": [
       "<Figure size 432x288 with 1 Axes>"
      ]
     },
     "metadata": {
      "needs_background": "light"
     },
     "output_type": "display_data"
    }
   ],
   "source": [
    "#LASSO --- 76.4% at 0.5 threshold\n",
    "\n",
    "las = Lasso(alpha = 0.4)\n",
    "las.fit(X_train_1, y_train_1)\n",
    "\n",
    "#Predicting the test set results\n",
    "y_test = las.predict(X_test_1)\n",
    "plot_1 = plt.hist(y_test, bins = 10)\n",
    "\n",
    "\n",
    "# Setting the threshold to decide 0/1 classifier\n",
    "y_test = np.where(y_test < 0.5, 0 ,1)\n",
    "plot_2 = plt.hist(y_test)\n",
    "\n",
    "#Output to a csv file\n",
    "X_test_with_prediction = X_test\n",
    "X_test_with_prediction['xml_neoplasm_histologic_grade'] = y_test\n",
    "X_test_with_prediction_output =  X_test_with_prediction.iloc[:, [0, -1]]\n",
    "X_test_with_prediction_output = X_test_with_prediction_output.rename(columns={'Unnamed: 0' : 'ID'})\n",
    "X_test_with_prediction_output.to_csv(r'C:\\Users\\kantg\\OneDrive\\Desktop\\CMU\\ML for Science\\HW 3\\Output\\X_test_with_prediction_output.csv',index=None, header=True)"
   ]
  },
  {
   "cell_type": "code",
   "execution_count": 11,
   "id": "8363e27e-272d-465d-8067-ae6dc78795e1",
   "metadata": {
    "collapsed": true,
    "jupyter": {
     "outputs_hidden": true,
     "source_hidden": true
    },
    "tags": []
   },
   "outputs": [
    {
     "data": {
      "image/png": "[encoded data removed]",
      "text/plain": [
       "<Figure size 432x288 with 1 Axes>"
      ]
     },
     "metadata": {
      "needs_background": "light"
     },
     "output_type": "display_data"
    }
   ],
   "source": [
    "# Linear SVM\n",
    "\n",
    "lin_svm = LinearSVC(random_state=0)\n",
    "lin_svm.fit(X_train_1, y_train_1)\n",
    "\n",
    "#Predicting the test set results\n",
    "y_test = lin_svm.predict(X_test_1)\n",
    "plot_1 = plt.hist(y_test, bins = 10)\n",
    "\n",
    "\n",
    "# Setting the threshold to decide 0/1 classifier\n",
    "y_test = np.where(y_test < 0.5, 0 ,1)\n",
    "plot_2 = plt.hist(y_test)\n",
    "\n",
    "#Output to a csv file\n",
    "X_test_with_prediction = X_test\n",
    "X_test_with_prediction['xml_neoplasm_histologic_grade'] = y_test\n",
    "X_test_with_prediction_output =  X_test_with_prediction.iloc[:, [0, -1]]\n",
    "X_test_with_prediction_output = X_test_with_prediction_output.rename(columns={'Unnamed: 0' : 'ID'})\n",
    "X_test_with_prediction_output.to_csv(r'C:\\Users\\kantg\\OneDrive\\Desktop\\CMU\\ML for Science\\HW 3\\Output\\X_test_with_prediction_output.csv',index=None, header=True)"
   ]
  },
  {
   "cell_type": "code",
   "execution_count": 12,
   "id": "60407fe8-0a02-4fa6-97db-3f06f28de261",
   "metadata": {
    "tags": []
   },
   "outputs": [],
   "source": [
    "#Select top 1000 features based on SelectKBest mutual info classification (other score functions: chi2 etc.)\n",
    "\n",
    "X_train_Kbest_1 = SelectKBest(score_func = mutual_info_classif, k=1000)\n",
    "X_train_Kbest_1.fit(X_train_1, y_train_1)\n",
    "X_train_Kbest_1_columns = X_train_1.columns[X_train_Kbest_1.get_support()]\n"
   ]
  },
  {
   "cell_type": "code",
   "execution_count": 20,
   "id": "31a9ae14-71d4-416c-a095-bdee43ba7cb3",
   "metadata": {},
   "outputs": [
    {
     "name": "stdout",
     "output_type": "stream",
     "text": [
      "{'classifier': RidgeClassifierCV(), 'scaler': Normalizer()}\n",
      "Pipeline(steps=[('scaler', Normalizer()), ('selector', VarianceThreshold()),\n",
      "                ('classifier', RidgeClassifierCV())])\n"
     ]
    }
   ],
   "source": [
    "## Creating a pipeline\n",
    "from sklearn.preprocessing import Normalizer, StandardScaler, MinMaxScaler, PowerTransformer, MaxAbsScaler, LabelEncoder\n",
    "from sklearn.feature_selection import VarianceThreshold # For Feature selection\n",
    "from sklearn.model_selection import GridSearchCV\n",
    "from pandas import DataFrame\n",
    "\n",
    "\n",
    "pipe = Pipeline([\n",
    "('scaler', StandardScaler()),\n",
    "('selector', VarianceThreshold()),\n",
    "('classifier', LinearRegression())\n",
    "])\n",
    " \n",
    "pipe.fit(X_train_1, y_train_1)\n",
    "\n",
    "parameters = {'scaler': [StandardScaler(), MinMaxScaler(), Normalizer(), MaxAbsScaler()],\n",
    "              'classifier': [LinearRegression(), Ridge(), LinearSVC(), Lasso(), Perceptron(), RidgeClassifierCV(),\n",
    "                            SGDClassifier() ]}# LogisticRegression(), LogisticRegressionCV()\n",
    "## Add model parameters also\n",
    "\n",
    "grid = GridSearchCV(pipe, parameters, cv=2).fit(X_train_1, y_train_1)\n",
    "\n",
    "# Access the best set of parameters\n",
    "best_params = grid.best_params_\n",
    "print(best_params)\n",
    "# Stores the optimum model in best_pipe\n",
    "best_pipe = grid.best_estimator_\n",
    "print(best_pipe)\n",
    "\n",
    "y_test = best_pipe.predict(X_test_1)\n",
    "y_test = np.where(y_test < 0.5, 0 ,1)\n",
    "\n",
    "y_test\n",
    "\n",
    "#Output to a csv file\n",
    "X_test_with_prediction = X_test\n",
    "X_test_with_prediction['xml_neoplasm_histologic_grade'] = y_test\n",
    "X_test_with_prediction_output =  X_test_with_prediction.iloc[:, [0, -1]]\n",
    "X_test_with_prediction_output = X_test_with_prediction_output.rename(columns={'Unnamed: 0' : 'ID'})\n",
    "X_test_with_prediction_output.to_csv(r'C:\\Users\\kantg\\OneDrive\\Desktop\\CMU\\ML for Science\\HW 3\\Output\\X_test_with_prediction_output.csv',index=None, header=True)\n"
   ]
  },
  {
   "cell_type": "code",
   "execution_count": 23,
   "id": "6800b2ea-bf5c-4c88-8cf1-d3126886f651",
   "metadata": {},
   "outputs": [
    {
     "ename": "ValueError",
     "evalue": "could not convert string to float: 'B43F52DD-D081-4B9D-9E5B-F76FCCDB6E3A'",
     "output_type": "error",
     "traceback": [
      "\u001b[1;31m---------------------------------------------------------------------------\u001b[0m",
      "\u001b[1;31mValueError\u001b[0m                                Traceback (most recent call last)",
      "Input \u001b[1;32mIn [23]\u001b[0m, in \u001b[0;36m<cell line: 9>\u001b[1;34m()\u001b[0m\n\u001b[0;32m      6\u001b[0m model \u001b[38;5;241m=\u001b[39m DecisionTreeClassifier()\n\u001b[0;32m      7\u001b[0m scrambler \u001b[38;5;241m=\u001b[39m Scrambler(model\u001b[38;5;241m=\u001b[39mmodel, iterations\u001b[38;5;241m=\u001b[39m\u001b[38;5;241m100\u001b[39m)\n\u001b[1;32m----> 9\u001b[0m scores, zscores, pvalues, significances \u001b[38;5;241m=\u001b[39m \u001b[43mscrambler\u001b[49m\u001b[38;5;241;43m.\u001b[39;49m\u001b[43mvalidate\u001b[49m\u001b[43m(\u001b[49m\n\u001b[0;32m     10\u001b[0m \u001b[43m    \u001b[49m\u001b[43mX_train\u001b[49m\u001b[43m,\u001b[49m\u001b[43m \u001b[49m\u001b[43my_train\u001b[49m\u001b[43m,\u001b[49m\u001b[43m \u001b[49m\n\u001b[0;32m     11\u001b[0m \u001b[43m    \u001b[49m\u001b[43mscoring\u001b[49m\u001b[38;5;241;43m=\u001b[39;49m\u001b[38;5;124;43m\"\u001b[39;49m\u001b[38;5;124;43maccuracy\u001b[39;49m\u001b[38;5;124;43m\"\u001b[39;49m\u001b[43m,\u001b[49m\u001b[43m \u001b[49m\n\u001b[0;32m     12\u001b[0m \u001b[43m    \u001b[49m\u001b[43mcross_val_score_aggregator\u001b[49m\u001b[38;5;241;43m=\u001b[39;49m\u001b[38;5;124;43m\"\u001b[39;49m\u001b[38;5;124;43mmean\u001b[39;49m\u001b[38;5;124;43m\"\u001b[39;49m\u001b[43m,\u001b[49m\u001b[43m \u001b[49m\n\u001b[0;32m     13\u001b[0m \u001b[43m    \u001b[49m\u001b[43mpvalue_threshold\u001b[49m\u001b[38;5;241;43m=\u001b[39;49m\u001b[38;5;241;43m0.01\u001b[39;49m\u001b[43m)\u001b[49m\n",
      "File \u001b[1;32m~\\anaconda3\\lib\\site-packages\\y_scramble\\scramble.py:23\u001b[0m, in \u001b[0;36mScrambler.validate\u001b[1;34m(self, X, y, method, scoring, cross_val_score_aggregator, pvalue_threshold, cv_kfolds, as_df, validation_data, progress_bar)\u001b[0m\n\u001b[0;32m     20\u001b[0m     \u001b[38;5;28;01mraise\u001b[39;00m \u001b[38;5;167;01mException\u001b[39;00m(\u001b[38;5;124mf\u001b[39m\u001b[38;5;124m\"\u001b[39m\u001b[38;5;124mscoring function \u001b[39m\u001b[38;5;124m'\u001b[39m\u001b[38;5;132;01m{\u001b[39;00mmodel_scorer\u001b[38;5;132;01m}\u001b[39;00m\u001b[38;5;124m'\u001b[39m\u001b[38;5;124m is not a sklearn scorer\u001b[39m\u001b[38;5;124m\"\u001b[39m)\n\u001b[0;32m     22\u001b[0m \u001b[38;5;28;01mif\u001b[39;00m method \u001b[38;5;241m==\u001b[39m \u001b[38;5;124m\"\u001b[39m\u001b[38;5;124mtrain_test_split\u001b[39m\u001b[38;5;124m\"\u001b[39m:\n\u001b[1;32m---> 23\u001b[0m     base_model_score, scrambled_model_scores \u001b[38;5;241m=\u001b[39m \u001b[38;5;28;43mself\u001b[39;49m\u001b[38;5;241;43m.\u001b[39;49m\u001b[43m__validate_train_test_split\u001b[49m\u001b[43m(\u001b[49m\u001b[43mX\u001b[49m\u001b[43m,\u001b[49m\u001b[43m \u001b[49m\u001b[43my\u001b[49m\u001b[43m,\u001b[49m\u001b[43m \u001b[49m\u001b[43mmodel_scorer\u001b[49m\u001b[43m,\u001b[49m\u001b[43m \u001b[49m\u001b[43mprogress_bar\u001b[49m\u001b[38;5;241;43m=\u001b[39;49m\u001b[43mprogress_bar\u001b[49m\u001b[43m)\u001b[49m\n\u001b[0;32m     25\u001b[0m \u001b[38;5;28;01melif\u001b[39;00m method \u001b[38;5;241m==\u001b[39m \u001b[38;5;124m\"\u001b[39m\u001b[38;5;124mtrain_test_splitted\u001b[39m\u001b[38;5;124m\"\u001b[39m:\n\u001b[0;32m     26\u001b[0m     base_model_score, scrambled_model_scores \u001b[38;5;241m=\u001b[39m \u001b[38;5;28mself\u001b[39m\u001b[38;5;241m.\u001b[39m__validate_train_test_split(X, y, model_scorer, validation_data\u001b[38;5;241m=\u001b[39mvalidation_data, progress_bar\u001b[38;5;241m=\u001b[39mprogress_bar)\n",
      "File \u001b[1;32m~\\anaconda3\\lib\\site-packages\\y_scramble\\scramble.py:57\u001b[0m, in \u001b[0;36mScrambler.__validate_train_test_split\u001b[1;34m(self, X, y, scorer, validation_data, progress_bar)\u001b[0m\n\u001b[0;32m     55\u001b[0m     X_train, y_train \u001b[38;5;241m=\u001b[39m X, y\n\u001b[0;32m     56\u001b[0m     X_test, y_test \u001b[38;5;241m=\u001b[39m validation_data\n\u001b[1;32m---> 57\u001b[0m \u001b[38;5;28;43mself\u001b[39;49m\u001b[38;5;241;43m.\u001b[39;49m\u001b[43mbase_model\u001b[49m\u001b[38;5;241;43m.\u001b[39;49m\u001b[43mfit\u001b[49m\u001b[43m(\u001b[49m\u001b[43mX_train\u001b[49m\u001b[43m,\u001b[49m\u001b[43m \u001b[49m\u001b[43my_train\u001b[49m\u001b[43m)\u001b[49m\n\u001b[0;32m     59\u001b[0m \u001b[38;5;28mself\u001b[39m\u001b[38;5;241m.\u001b[39mscrambled_models \u001b[38;5;241m=\u001b[39m [copy\u001b[38;5;241m.\u001b[39mcopy(\u001b[38;5;28mself\u001b[39m\u001b[38;5;241m.\u001b[39mbase_model) \u001b[38;5;28;01mfor\u001b[39;00m _ \u001b[38;5;129;01min\u001b[39;00m \u001b[38;5;28mrange\u001b[39m(\u001b[38;5;28mself\u001b[39m\u001b[38;5;241m.\u001b[39miterations)]\n\u001b[0;32m     60\u001b[0m base_model_score \u001b[38;5;241m=\u001b[39m scorer(\u001b[38;5;28mself\u001b[39m\u001b[38;5;241m.\u001b[39mbase_model, X_test, y_test)\n",
      "File \u001b[1;32m~\\anaconda3\\lib\\site-packages\\sklearn\\tree\\_classes.py:969\u001b[0m, in \u001b[0;36mDecisionTreeClassifier.fit\u001b[1;34m(self, X, y, sample_weight, check_input)\u001b[0m\n\u001b[0;32m    939\u001b[0m \u001b[38;5;28;01mdef\u001b[39;00m \u001b[38;5;21mfit\u001b[39m(\u001b[38;5;28mself\u001b[39m, X, y, sample_weight\u001b[38;5;241m=\u001b[39m\u001b[38;5;28;01mNone\u001b[39;00m, check_input\u001b[38;5;241m=\u001b[39m\u001b[38;5;28;01mTrue\u001b[39;00m):\n\u001b[0;32m    940\u001b[0m     \u001b[38;5;124;03m\"\"\"Build a decision tree classifier from the training set (X, y).\u001b[39;00m\n\u001b[0;32m    941\u001b[0m \n\u001b[0;32m    942\u001b[0m \u001b[38;5;124;03m    Parameters\u001b[39;00m\n\u001b[1;32m   (...)\u001b[0m\n\u001b[0;32m    966\u001b[0m \u001b[38;5;124;03m        Fitted estimator.\u001b[39;00m\n\u001b[0;32m    967\u001b[0m \u001b[38;5;124;03m    \"\"\"\u001b[39;00m\n\u001b[1;32m--> 969\u001b[0m     \u001b[38;5;28;43msuper\u001b[39;49m\u001b[43m(\u001b[49m\u001b[43m)\u001b[49m\u001b[38;5;241;43m.\u001b[39;49m\u001b[43mfit\u001b[49m\u001b[43m(\u001b[49m\n\u001b[0;32m    970\u001b[0m \u001b[43m        \u001b[49m\u001b[43mX\u001b[49m\u001b[43m,\u001b[49m\n\u001b[0;32m    971\u001b[0m \u001b[43m        \u001b[49m\u001b[43my\u001b[49m\u001b[43m,\u001b[49m\n\u001b[0;32m    972\u001b[0m \u001b[43m        \u001b[49m\u001b[43msample_weight\u001b[49m\u001b[38;5;241;43m=\u001b[39;49m\u001b[43msample_weight\u001b[49m\u001b[43m,\u001b[49m\n\u001b[0;32m    973\u001b[0m \u001b[43m        \u001b[49m\u001b[43mcheck_input\u001b[49m\u001b[38;5;241;43m=\u001b[39;49m\u001b[43mcheck_input\u001b[49m\u001b[43m,\u001b[49m\n\u001b[0;32m    974\u001b[0m \u001b[43m    \u001b[49m\u001b[43m)\u001b[49m\n\u001b[0;32m    975\u001b[0m     \u001b[38;5;28;01mreturn\u001b[39;00m \u001b[38;5;28mself\u001b[39m\n",
      "File \u001b[1;32m~\\anaconda3\\lib\\site-packages\\sklearn\\tree\\_classes.py:172\u001b[0m, in \u001b[0;36mBaseDecisionTree.fit\u001b[1;34m(self, X, y, sample_weight, check_input)\u001b[0m\n\u001b[0;32m    170\u001b[0m check_X_params \u001b[38;5;241m=\u001b[39m \u001b[38;5;28mdict\u001b[39m(dtype\u001b[38;5;241m=\u001b[39mDTYPE, accept_sparse\u001b[38;5;241m=\u001b[39m\u001b[38;5;124m\"\u001b[39m\u001b[38;5;124mcsc\u001b[39m\u001b[38;5;124m\"\u001b[39m)\n\u001b[0;32m    171\u001b[0m check_y_params \u001b[38;5;241m=\u001b[39m \u001b[38;5;28mdict\u001b[39m(ensure_2d\u001b[38;5;241m=\u001b[39m\u001b[38;5;28;01mFalse\u001b[39;00m, dtype\u001b[38;5;241m=\u001b[39m\u001b[38;5;28;01mNone\u001b[39;00m)\n\u001b[1;32m--> 172\u001b[0m X, y \u001b[38;5;241m=\u001b[39m \u001b[38;5;28;43mself\u001b[39;49m\u001b[38;5;241;43m.\u001b[39;49m\u001b[43m_validate_data\u001b[49m\u001b[43m(\u001b[49m\n\u001b[0;32m    173\u001b[0m \u001b[43m    \u001b[49m\u001b[43mX\u001b[49m\u001b[43m,\u001b[49m\u001b[43m \u001b[49m\u001b[43my\u001b[49m\u001b[43m,\u001b[49m\u001b[43m \u001b[49m\u001b[43mvalidate_separately\u001b[49m\u001b[38;5;241;43m=\u001b[39;49m\u001b[43m(\u001b[49m\u001b[43mcheck_X_params\u001b[49m\u001b[43m,\u001b[49m\u001b[43m \u001b[49m\u001b[43mcheck_y_params\u001b[49m\u001b[43m)\u001b[49m\n\u001b[0;32m    174\u001b[0m \u001b[43m\u001b[49m\u001b[43m)\u001b[49m\n\u001b[0;32m    175\u001b[0m \u001b[38;5;28;01mif\u001b[39;00m issparse(X):\n\u001b[0;32m    176\u001b[0m     X\u001b[38;5;241m.\u001b[39msort_indices()\n",
      "File \u001b[1;32m~\\anaconda3\\lib\\site-packages\\sklearn\\base.py:591\u001b[0m, in \u001b[0;36mBaseEstimator._validate_data\u001b[1;34m(self, X, y, reset, validate_separately, **check_params)\u001b[0m\n\u001b[0;32m    589\u001b[0m \u001b[38;5;28;01mif\u001b[39;00m \u001b[38;5;124m\"\u001b[39m\u001b[38;5;124mestimator\u001b[39m\u001b[38;5;124m\"\u001b[39m \u001b[38;5;129;01mnot\u001b[39;00m \u001b[38;5;129;01min\u001b[39;00m check_X_params:\n\u001b[0;32m    590\u001b[0m     check_X_params \u001b[38;5;241m=\u001b[39m {\u001b[38;5;241m*\u001b[39m\u001b[38;5;241m*\u001b[39mdefault_check_params, \u001b[38;5;241m*\u001b[39m\u001b[38;5;241m*\u001b[39mcheck_X_params}\n\u001b[1;32m--> 591\u001b[0m X \u001b[38;5;241m=\u001b[39m check_array(X, input_name\u001b[38;5;241m=\u001b[39m\u001b[38;5;124m\"\u001b[39m\u001b[38;5;124mX\u001b[39m\u001b[38;5;124m\"\u001b[39m, \u001b[38;5;241m*\u001b[39m\u001b[38;5;241m*\u001b[39mcheck_X_params)\n\u001b[0;32m    592\u001b[0m \u001b[38;5;28;01mif\u001b[39;00m \u001b[38;5;124m\"\u001b[39m\u001b[38;5;124mestimator\u001b[39m\u001b[38;5;124m\"\u001b[39m \u001b[38;5;129;01mnot\u001b[39;00m \u001b[38;5;129;01min\u001b[39;00m check_y_params:\n\u001b[0;32m    593\u001b[0m     check_y_params \u001b[38;5;241m=\u001b[39m {\u001b[38;5;241m*\u001b[39m\u001b[38;5;241m*\u001b[39mdefault_check_params, \u001b[38;5;241m*\u001b[39m\u001b[38;5;241m*\u001b[39mcheck_y_params}\n",
      "File \u001b[1;32m~\\anaconda3\\lib\\site-packages\\sklearn\\utils\\validation.py:856\u001b[0m, in \u001b[0;36mcheck_array\u001b[1;34m(array, accept_sparse, accept_large_sparse, dtype, order, copy, force_all_finite, ensure_2d, allow_nd, ensure_min_samples, ensure_min_features, estimator, input_name)\u001b[0m\n\u001b[0;32m    854\u001b[0m         array \u001b[38;5;241m=\u001b[39m array\u001b[38;5;241m.\u001b[39mastype(dtype, casting\u001b[38;5;241m=\u001b[39m\u001b[38;5;124m\"\u001b[39m\u001b[38;5;124munsafe\u001b[39m\u001b[38;5;124m\"\u001b[39m, copy\u001b[38;5;241m=\u001b[39m\u001b[38;5;28;01mFalse\u001b[39;00m)\n\u001b[0;32m    855\u001b[0m     \u001b[38;5;28;01melse\u001b[39;00m:\n\u001b[1;32m--> 856\u001b[0m         array \u001b[38;5;241m=\u001b[39m \u001b[43mnp\u001b[49m\u001b[38;5;241;43m.\u001b[39;49m\u001b[43masarray\u001b[49m\u001b[43m(\u001b[49m\u001b[43marray\u001b[49m\u001b[43m,\u001b[49m\u001b[43m \u001b[49m\u001b[43morder\u001b[49m\u001b[38;5;241;43m=\u001b[39;49m\u001b[43morder\u001b[49m\u001b[43m,\u001b[49m\u001b[43m \u001b[49m\u001b[43mdtype\u001b[49m\u001b[38;5;241;43m=\u001b[39;49m\u001b[43mdtype\u001b[49m\u001b[43m)\u001b[49m\n\u001b[0;32m    857\u001b[0m \u001b[38;5;28;01mexcept\u001b[39;00m ComplexWarning \u001b[38;5;28;01mas\u001b[39;00m complex_warning:\n\u001b[0;32m    858\u001b[0m     \u001b[38;5;28;01mraise\u001b[39;00m \u001b[38;5;167;01mValueError\u001b[39;00m(\n\u001b[0;32m    859\u001b[0m         \u001b[38;5;124m\"\u001b[39m\u001b[38;5;124mComplex data not supported\u001b[39m\u001b[38;5;130;01m\\n\u001b[39;00m\u001b[38;5;132;01m{}\u001b[39;00m\u001b[38;5;130;01m\\n\u001b[39;00m\u001b[38;5;124m\"\u001b[39m\u001b[38;5;241m.\u001b[39mformat(array)\n\u001b[0;32m    860\u001b[0m     ) \u001b[38;5;28;01mfrom\u001b[39;00m \u001b[38;5;21;01mcomplex_warning\u001b[39;00m\n",
      "File \u001b[1;32m~\\anaconda3\\lib\\site-packages\\pandas\\core\\generic.py:2064\u001b[0m, in \u001b[0;36mNDFrame.__array__\u001b[1;34m(self, dtype)\u001b[0m\n\u001b[0;32m   2063\u001b[0m \u001b[38;5;28;01mdef\u001b[39;00m \u001b[38;5;21m__array__\u001b[39m(\u001b[38;5;28mself\u001b[39m, dtype: npt\u001b[38;5;241m.\u001b[39mDTypeLike \u001b[38;5;241m|\u001b[39m \u001b[38;5;28;01mNone\u001b[39;00m \u001b[38;5;241m=\u001b[39m \u001b[38;5;28;01mNone\u001b[39;00m) \u001b[38;5;241m-\u001b[39m\u001b[38;5;241m>\u001b[39m np\u001b[38;5;241m.\u001b[39mndarray:\n\u001b[1;32m-> 2064\u001b[0m     \u001b[38;5;28;01mreturn\u001b[39;00m \u001b[43mnp\u001b[49m\u001b[38;5;241;43m.\u001b[39;49m\u001b[43masarray\u001b[49m\u001b[43m(\u001b[49m\u001b[38;5;28;43mself\u001b[39;49m\u001b[38;5;241;43m.\u001b[39;49m\u001b[43m_values\u001b[49m\u001b[43m,\u001b[49m\u001b[43m \u001b[49m\u001b[43mdtype\u001b[49m\u001b[38;5;241;43m=\u001b[39;49m\u001b[43mdtype\u001b[49m\u001b[43m)\u001b[49m\n",
      "\u001b[1;31mValueError\u001b[0m: could not convert string to float: 'B43F52DD-D081-4B9D-9E5B-F76FCCDB6E3A'"
     ]
    }
   ],
   "source": [
    "## Y-Randomization\n",
    "\n",
    "from y_scramble import Scrambler\n",
    "from sklearn.tree import DecisionTreeClassifier\n",
    "\n",
    "model = DecisionTreeClassifier()\n",
    "scrambler = Scrambler(model=model, iterations=100)\n",
    "\n",
    "scores, zscores, pvalues, significances = scrambler.validate(\n",
    "    X_train, y_train, \n",
    "    scoring=\"accuracy\", \n",
    "    cross_val_score_aggregator=\"mean\", \n",
    "    pvalue_threshold=0.01)"
   ]
  },
  {
   "cell_type": "code",
   "execution_count": null,
   "id": "7e393b13-29d9-4807-8ba8-047e9919f772",
   "metadata": {},
   "outputs": [],
   "source": []
  }
 ],
 "metadata": {
  "kernelspec": {
   "display_name": "Python 3 (ipykernel)",
   "language": "python",
   "name": "python3"
  },
  "language_info": {
   "codemirror_mode": {
    "name": "ipython",
    "version": 3
   },
   "file_extension": ".py",
   "mimetype": "text/x-python",
   "name": "python",
   "nbconvert_exporter": "python",
   "pygments_lexer": "ipython3",
   "version": "3.9.12"
  }
 },
 "nbformat": 4,
 "nbformat_minor": 5
}
