{
 "cells": [
  {
   "cell_type": "markdown",
   "id": "f1f6370d-d0f2-44dc-9ea2-9250f469ad76",
   "metadata": {},
   "source": [
    "Lab3: Wide data and linear models\n",
    "\n",
    "Name: Gautami Kant\n",
    "Andrew ID: gkant\n",
    "\n",
    "Aim: Predict the disease UCEC (uterine corpus endometrial carcinoma). Labels (1/0) are encoding tumor grade “II-” vs. “III+”. Perform binary classification (0/1) using linear models\n",
    "\n",
    "Specific tasks:\n",
    "1.Classification performance using accuracy and F1-score:\n",
    "\n",
    "-Obtained an F1-score of 88.88% on the validation set (public)\n",
    "\n",
    "2.Develop a pipeline to try different linear models (linear regression, logistic regression, Ridge regression, LASSO, etc.)\n",
    "Study the effect of regularization parameters on model performance. What model is the best?\n",
    "\n",
    "-Developed a pipeline to train multiple linear models - logistic regression, linear regression, ridge regression, LASSO, linear SVC, preceptron and SGDClassifier. Of these, got the best results using logistic regression. Next, I used l1,l2,elastic net regularization on logistic regression model to check if that made any difference to the results. Result was the original model model with l2 got best results.'saga' solver since we can perform l1,l2,elastic net on this solver gave lower results than the default solver.\n",
    "\n",
    "\n",
    "3.Random guessing: Y-randomization\n",
    "\n",
    "-With Y-randomization, as expected the accuracy of the model was lower than without randomization. Got 49.77% accuracy which is much lower than actual accuracy obtained from the model.\n",
    "\n",
    "\n",
    "4.Top important genes for the model decision\n",
    "\n",
    "-Obtained top 20 genes according feature importance score from the best model logistic regression\n",
    "\n",
    "\n",
    "5.Visualizing the dataset to check if we can separate two groups of patients visually\n",
    "\n",
    "-Performed PCA on the training data set to see if we can visually separate the 2 groups of patients. No separation and almost all points are mixed and concentrated at the center. Additionally, performed PCA for the predicted test data labels as well, no separation here as well\n"
   ]
  },
  {
   "cell_type": "code",
   "execution_count": 2,
   "id": "8dbb2f9d-cd74-4be0-b859-f9ceeefaeb18",
   "metadata": {},
   "outputs": [],
   "source": [
    "import pandas as pd\n",
    "import numpy as np\n",
    "import matplotlib.pyplot as plt\n",
    "import seaborn as sns\n",
    "from sklearn import metrics\n",
    "from sklearn import preprocessing\n",
    "from sklearn.feature_selection import VarianceThreshold\n",
    "from sklearn.linear_model import LogisticRegression\n",
    "from sklearn.linear_model import LinearRegression\n",
    "from sklearn.linear_model import Ridge\n",
    "from sklearn.linear_model import Lasso\n",
    "from sklearn.svm import LinearSVC\n",
    "from sklearn.linear_model import Perceptron\n",
    "from sklearn.linear_model import SGDClassifier\n",
    "from sklearn.pipeline import make_pipeline\n",
    "from sklearn.pipeline import Pipeline\n",
    "from sklearn.model_selection import RepeatedStratifiedKFold\n",
    "from tqdm import tqdm\n",
    "import warnings\n",
    "warnings.filterwarnings(\"ignore\") \n",
    "from sklearn.model_selection import cross_val_score\n",
    "from sklearn.preprocessing import StandardScaler\n",
    "from sklearn.feature_selection import VarianceThreshold\n",
    "from sklearn.model_selection import GridSearchCV\n",
    "from sklearn.model_selection import train_test_split\n",
    "from pandas import DataFrame\n"
   ]
  },
  {
   "cell_type": "code",
   "execution_count": 12,
   "id": "5c318550-b301-4430-9a82-8a00225e3ff8",
   "metadata": {},
   "outputs": [],
   "source": [
    " # Loading the csv files\n",
    "X_train = pd.read_csv(r\"C:\\Users\\kantg\\OneDrive\\Desktop\\CMU\\ML for Science\\HW 3\\train_X.csv\")\n",
    "y_train = pd.read_csv(r\"C:\\Users\\kantg\\OneDrive\\Desktop\\CMU\\ML for Science\\HW 3\\train_y.csv\")\n",
    "X_test = pd.read_csv(r\"C:\\Users\\kantg\\OneDrive\\Desktop\\CMU\\ML for Science\\HW 3\\test_X.csv\")"
   ]
  },
  {
   "cell_type": "code",
   "execution_count": 13,
   "id": "f389d4b4-30ba-4043-b216-e9e4159b3c16",
   "metadata": {
    "tags": []
   },
   "outputs": [
    {
     "name": "stdout",
     "output_type": "stream",
     "text": [
      "Nulls in X_train is  0\n",
      "Nulls in y_train is  0\n",
      "Nulls in X_test is  0\n",
      "Non-numeric columns in X_train are ['Unnamed: 0']\n",
      "Non-numeric columns in y_train are ['Unnamed: 0']\n",
      "Non-numeric columns in X_test are ['Unnamed: 0']\n"
     ]
    }
   ],
   "source": [
    "# Checking for nulls. No nulls in the training and test data set\n",
    "print(\"Nulls in X_train is \", X_train.isna().sum().sum())\n",
    "print(\"Nulls in y_train is \", y_train.isna().sum().sum())\n",
    "print(\"Nulls in X_test is \", X_test.isna().sum().sum())\n",
    "\n",
    "#Checking for non-integer columns. Looks like only the identifier column has object data type\n",
    "print(\"Non-numeric columns in X_train are\", X_train.select_dtypes(include=['object']).columns.tolist())\n",
    "print(\"Non-numeric columns in y_train are\", y_train.select_dtypes(include=['object']).columns.tolist())\n",
    "print(\"Non-numeric columns in X_test are\", X_test.select_dtypes(include=['object']).columns.tolist())"
   ]
  },
  {
   "cell_type": "code",
   "execution_count": 16,
   "id": "0ecb7709-6354-4803-9a16-ea5190b186e8",
   "metadata": {
    "tags": []
   },
   "outputs": [
    {
     "name": "stdout",
     "output_type": "stream",
     "text": [
      "<class 'pandas.core.frame.DataFrame'>\n",
      "RangeIndex: 444 entries, 0 to 443\n",
      "Data columns (total 2 columns):\n",
      " #   Column                         Non-Null Count  Dtype \n",
      "---  ------                         --------------  ----- \n",
      " 0   Unnamed: 0                     444 non-null    object\n",
      " 1   xml_neoplasm_histologic_grade  444 non-null    int64 \n",
      "dtypes: int64(1), object(1)\n",
      "memory usage: 7.1+ KB\n",
      "                               Unnamed: 0\n",
      "xml_neoplasm_histologic_grade            \n",
      "0                                     190\n",
      "1                                     254\n"
     ]
    }
   ],
   "source": [
    "#Exploring the y_train data\n",
    "y_train.info()\n",
    "# Classes are not imbalanced. Overall % - 0 (43%) and 1 (57%)\n",
    "print(y_train.groupby(['xml_neoplasm_histologic_grade']).count())\n",
    "\n",
    "#Scaling the training and test data set\n",
    "X_train_1 = X_train.iloc[:,1:]\n",
    "scaler = preprocessing.StandardScaler().fit(X_train_1)\n",
    "X_train_1 = pd.DataFrame(scaler.transform(X_train_1),columns= X_train_1.columns, index = X_train_1.index) \n",
    "\n",
    "X_test_1 = X_test.iloc[:,1:]\n",
    "scaler = preprocessing.StandardScaler().fit(X_test_1)\n",
    "X_test_1 = pd.DataFrame(scaler.transform(X_test_1),columns= X_test_1.columns, index = X_test_1.index) \n",
    "\n",
    "\n",
    "y_train_1 = y_train.iloc[:,1]\n"
   ]
  },
  {
   "cell_type": "code",
   "execution_count": 18,
   "id": "3857f772-fced-48c2-87c9-4989abc88a16",
   "metadata": {},
   "outputs": [
    {
     "name": "stdout",
     "output_type": "stream",
     "text": [
      "(444, 17970)\n",
      "(444, 17970)\n"
     ]
    }
   ],
   "source": [
    "# Dropping low variance columns. No columns are dropped\n",
    "\n",
    "thresholds = [0.1,0.2,0.3,0.4]\n",
    "selector = VarianceThreshold(threshold = thresholds[2])\n",
    "selection_columns = selector.fit_transform(X_train_1)\n",
    "print(selection_columns.shape)\n",
    "\n",
    "concol = [column for column in X_train_1.columns \n",
    "          if column not in X_train_1.columns[selector.get_support()]]\n",
    "X_train_1 = X_train_1.drop(concol,axis=1)\n",
    "print(X_train_1.shape)\n"
   ]
  },
  {
   "cell_type": "code",
   "execution_count": 125,
   "id": "4177d1f0-d1c5-47a7-9107-31d1ebe4ee24",
   "metadata": {},
   "outputs": [
    {
     "name": "stdout",
     "output_type": "stream",
     "text": [
      "{'classifier': LogisticRegression(max_iter=10000, random_state=10)}\n",
      "Pipeline(steps=[('classifier',\n",
      "                 LogisticRegression(max_iter=10000, random_state=10))])\n"
     ]
    }
   ],
   "source": [
    "# Running linear models to get the best result on training data with cross validation\n",
    "\n",
    "pipe = Pipeline([('classifier', LogisticRegression(max_iter= 10000, random_state = 5))])\n",
    " \n",
    "pipe.fit(X_train_1, y_train_1)\n",
    "\n",
    "parameters = {'classifier': [LogisticRegression(max_iter= 10000, random_state = 10),\n",
    "                             Ridge(random_state=10), \n",
    "                             LinearSVC(random_state=10), \n",
    "                             Lasso(random_state=10), \n",
    "                             Perceptron(random_state=10),\n",
    "                             LinearRegression(),\n",
    "                             SGDClassifier(random_state=10)]}\n",
    "\n",
    "grid = GridSearchCV(pipe, parameters, cv=3).fit(X_train_1, y_train_1)\n",
    "\n",
    "# Access the best set of parameters\n",
    "best_params = grid.best_params_\n",
    "print(best_params)\n",
    "# Stores the optimum model in best_pipe\n",
    "best_pipe = grid.best_estimator_\n",
    "print(best_pipe)\n",
    "\n",
    "## Thus, out of the above linear models, logistic regression is the best model."
   ]
  },
  {
   "cell_type": "code",
   "execution_count": 52,
   "id": "e8bbea31-4800-4661-819f-c034b0c5dda2",
   "metadata": {},
   "outputs": [
    {
     "name": "stdout",
     "output_type": "stream",
     "text": [
      "0.822072072072072\n",
      "0.7995495495495495\n",
      "0.795045045045045\n",
      "0.7972972972972974\n"
     ]
    }
   ],
   "source": [
    "# From above, Logistic regression is the best model based on training data. Thus, we can check results with different\n",
    "#regularization techniques\n",
    "\n",
    "# Default solver 'lbfgs' with default parameters. This solver does not support all types of regularization\n",
    "log_reg_0 = LogisticRegression(random_state=10,max_iter=10000)\n",
    "log_reg_0.fit(X_train_1, y_train_1)\n",
    "scores = cross_val_score(log_reg_0, X_train_1, y_train_1, cv=2)\n",
    "print(scores.mean())\n",
    "\n",
    "#The 'saga' solver supports l1,l2, elasticnet penalty. Thus tried combination of these parameters. The accuracy for the training dataset\n",
    "# went down by about 3%. Thus, I have still considered the original logistic regression model (log_reg_0) to be the best model.\n",
    "\n",
    "# Solver 'saga' with l1 regularization\n",
    "log_reg = LogisticRegression(random_state=10,max_iter=10000, solver='saga', penalty = 'l1')\n",
    "log_reg.fit(X_train_1, y_train_1)\n",
    "scores = cross_val_score(log_reg, X_train_1, y_train_1, cv=2)\n",
    "print(scores.mean())\n",
    "\n",
    "# Solver 'saga' with l2 regularization\n",
    "log_reg = LogisticRegression(random_state=10,max_iter=10000, solver='saga', penalty = 'l2' )\n",
    "log_reg.fit(X_train_1, y_train_1)\n",
    "scores = cross_val_score(log_reg, X_train_1, y_train_1, cv=2)\n",
    "print(scores.mean())\n",
    "\n",
    "# Solver 'saga' with l2 regularization\n",
    "log_reg = LogisticRegression(random_state=10,max_iter=10000, solver='saga', penalty = 'elasticnet', l1_ratio= 0.5)\n",
    "log_reg.fit(X_train_1, y_train_1)\n",
    "scores = cross_val_score(log_reg, X_train_1, y_train_1, cv=2)\n",
    "print(scores.mean())"
   ]
  },
  {
   "cell_type": "code",
   "execution_count": 160,
   "id": "740a119b-2c1d-46da-b152-c73d5c2bf502",
   "metadata": {},
   "outputs": [
    {
     "data": {
      "image/png": "[encoded data removed]",
      "text/plain": [
       "<Figure size 432x288 with 1 Axes>"
      ]
     },
     "metadata": {
      "needs_background": "light"
     },
     "output_type": "display_data"
    }
   ],
   "source": [
    "# Linear regression - converting continuous values to 0/1 labels and trying on test data - we get lower results than logistic regression\n",
    "# Setting the threshold to 0.5. Can perform a sensitivity analysis with different thresholds to see if any particular threshold gives better\n",
    "#accuracy\n",
    "\n",
    "lin_reg = LinearRegression()\n",
    "lin_reg.fit(X_train_1, y_train_1)\n",
    "\n",
    "#Predicting the test set results\n",
    "y_test = lin_reg.predict(X_test_1)\n",
    "plt.hist(y_test, bins = 10)\n",
    "# Setting the threshold to decide 0/1 classifier\n",
    "y_test = np.where(y_test < 0.5, 0 , 1)\n",
    "\n",
    "#Output to a csv file\n",
    "X_test_with_prediction = X_test\n",
    "X_test_with_prediction['xml_neoplasm_histologic_grade'] = y_test\n",
    "X_test_with_prediction_output =  X_test_with_prediction.iloc[:, [0, -1]]\n",
    "X_test_with_prediction_output = X_test_with_prediction_output.rename(columns={'Unnamed: 0' : 'ID'})\n",
    "X_test_with_prediction_output.to_csv(r'C:\\Users\\kantg\\OneDrive\\Desktop\\CMU\\ML for Science\\HW 3\\Output\\X_test_with_prediction_output.csv',index=None, header=True)\n"
   ]
  },
  {
   "cell_type": "code",
   "execution_count": 162,
   "id": "e2db2523-2d1a-40dc-92dd-b8657669ec97",
   "metadata": {},
   "outputs": [
    {
     "data": {
      "image/png": "[encoded data removed]",
      "text/plain": [
       "<Figure size 432x288 with 1 Axes>"
      ]
     },
     "metadata": {
      "needs_background": "light"
     },
     "output_type": "display_data"
    }
   ],
   "source": [
    "#Ridge regression  - converting continuous values to 0/1 labels  and trying on test data - we get lower results than logistic regression\n",
    "\n",
    "rid_reg = Ridge(random_state=10)\n",
    "rid_reg.fit(X_train_1, y_train_1)\n",
    "\n",
    "#Predicting the test set results\n",
    "y_test = rid_reg.predict(X_test_1)\n",
    "plot_1 = plt.hist(y_test, bins = 10)\n",
    "# Setting the threshold to decide 0/1 classifier\n",
    "y_test = np.where(y_test < 0.5, 0 ,1)\n",
    "\n",
    "#Output to a csv file\n",
    "X_test_with_prediction = X_test\n",
    "X_test_with_prediction['xml_neoplasm_histologic_grade'] = y_test\n",
    "X_test_with_prediction_output =  X_test_with_prediction.iloc[:, [0, -1]]\n",
    "X_test_with_prediction_output = X_test_with_prediction_output.rename(columns={'Unnamed: 0' : 'ID'})\n",
    "X_test_with_prediction_output.to_csv(r'C:\\Users\\kantg\\OneDrive\\Desktop\\CMU\\ML for Science\\HW 3\\Output\\X_test_with_prediction_output.csv',index=None, header=True)\n"
   ]
  },
  {
   "cell_type": "code",
   "execution_count": null,
   "id": "b01138e3-e7d0-4d0c-9b0f-1f4c218f5840",
   "metadata": {
    "tags": []
   },
   "outputs": [],
   "source": [
    "#Predicting the test data using the the best trained model (logistic regression)\n",
    "\n",
    "y_test = log_reg_0.predict(X_test_1)\n",
    "\n",
    "# Output to a csv file which is uploaded to kaggle\n",
    "X_test_with_prediction = X_test\n",
    "X_test_with_prediction['xml_neoplasm_histologic_grade'] = y_test\n",
    "X_test_with_prediction_output =  X_test_with_prediction.iloc[:, [0, -1]]\n",
    "X_test_with_prediction_output = X_test_with_prediction_output.rename(columns={'Unnamed: 0' : 'ID'})\n",
    "X_test_with_prediction_output.to_csv(r'C:\\Users\\kantg\\OneDrive\\Desktop\\CMU\\ML for Science\\HW 3\\Output\\X_test_with_prediction_output.csv',index=None, header=True)\n"
   ]
  },
  {
   "cell_type": "code",
   "execution_count": 84,
   "id": "06f744fc-8c93-4912-8e08-beb372110c39",
   "metadata": {},
   "outputs": [
    {
     "name": "stderr",
     "output_type": "stream",
     "text": [
      "100%|██████████| 17969/17969 [00:00<00:00, 36408.29it/s]\n"
     ]
    },
    {
     "data": {
      "text/html": [
       "<div>\n",
       "<style scoped>\n",
       "    .dataframe tbody tr th:only-of-type {\n",
       "        vertical-align: middle;\n",
       "    }\n",
       "\n",
       "    .dataframe tbody tr th {\n",
       "        vertical-align: top;\n",
       "    }\n",
       "\n",
       "    .dataframe thead th {\n",
       "        text-align: right;\n",
       "    }\n",
       "</style>\n",
       "<table border=\"1\" class=\"dataframe\">\n",
       "  <thead>\n",
       "    <tr style=\"text-align: right;\">\n",
       "      <th></th>\n",
       "      <th>feature</th>\n",
       "      <th>feat_imp</th>\n",
       "      <th>cumulative</th>\n",
       "    </tr>\n",
       "  </thead>\n",
       "  <tbody>\n",
       "    <tr>\n",
       "      <th>0</th>\n",
       "      <td>ENSG00000000003</td>\n",
       "      <td>0.003884</td>\n",
       "      <td>0.003884</td>\n",
       "    </tr>\n",
       "    <tr>\n",
       "      <th>1</th>\n",
       "      <td>ENSG00000000005</td>\n",
       "      <td>0.024082</td>\n",
       "      <td>0.027966</td>\n",
       "    </tr>\n",
       "    <tr>\n",
       "      <th>2</th>\n",
       "      <td>ENSG00000000419</td>\n",
       "      <td>0.009035</td>\n",
       "      <td>0.037000</td>\n",
       "    </tr>\n",
       "    <tr>\n",
       "      <th>3</th>\n",
       "      <td>ENSG00000000457</td>\n",
       "      <td>0.002549</td>\n",
       "      <td>0.039549</td>\n",
       "    </tr>\n",
       "    <tr>\n",
       "      <th>4</th>\n",
       "      <td>ENSG00000000938</td>\n",
       "      <td>0.001610</td>\n",
       "      <td>0.041159</td>\n",
       "    </tr>\n",
       "    <tr>\n",
       "      <th>5</th>\n",
       "      <td>ENSG00000000971</td>\n",
       "      <td>0.004449</td>\n",
       "      <td>0.045608</td>\n",
       "    </tr>\n",
       "    <tr>\n",
       "      <th>6</th>\n",
       "      <td>ENSG00000001036</td>\n",
       "      <td>0.003999</td>\n",
       "      <td>0.049608</td>\n",
       "    </tr>\n",
       "    <tr>\n",
       "      <th>7</th>\n",
       "      <td>ENSG00000001084</td>\n",
       "      <td>0.006312</td>\n",
       "      <td>0.055920</td>\n",
       "    </tr>\n",
       "    <tr>\n",
       "      <th>8</th>\n",
       "      <td>ENSG00000001167</td>\n",
       "      <td>0.007765</td>\n",
       "      <td>0.063685</td>\n",
       "    </tr>\n",
       "    <tr>\n",
       "      <th>9</th>\n",
       "      <td>ENSG00000001460</td>\n",
       "      <td>0.003687</td>\n",
       "      <td>0.067372</td>\n",
       "    </tr>\n",
       "    <tr>\n",
       "      <th>10</th>\n",
       "      <td>ENSG00000001461</td>\n",
       "      <td>0.000158</td>\n",
       "      <td>0.067530</td>\n",
       "    </tr>\n",
       "    <tr>\n",
       "      <th>11</th>\n",
       "      <td>ENSG00000001497</td>\n",
       "      <td>0.003314</td>\n",
       "      <td>0.070844</td>\n",
       "    </tr>\n",
       "    <tr>\n",
       "      <th>12</th>\n",
       "      <td>ENSG00000001561</td>\n",
       "      <td>0.004038</td>\n",
       "      <td>0.074882</td>\n",
       "    </tr>\n",
       "    <tr>\n",
       "      <th>13</th>\n",
       "      <td>ENSG00000001617</td>\n",
       "      <td>0.001321</td>\n",
       "      <td>0.076202</td>\n",
       "    </tr>\n",
       "    <tr>\n",
       "      <th>14</th>\n",
       "      <td>ENSG00000001626</td>\n",
       "      <td>0.004916</td>\n",
       "      <td>0.081119</td>\n",
       "    </tr>\n",
       "    <tr>\n",
       "      <th>15</th>\n",
       "      <td>ENSG00000001629</td>\n",
       "      <td>0.005416</td>\n",
       "      <td>0.086534</td>\n",
       "    </tr>\n",
       "    <tr>\n",
       "      <th>16</th>\n",
       "      <td>ENSG00000001630</td>\n",
       "      <td>0.011798</td>\n",
       "      <td>0.098333</td>\n",
       "    </tr>\n",
       "    <tr>\n",
       "      <th>17</th>\n",
       "      <td>ENSG00000001631</td>\n",
       "      <td>0.004807</td>\n",
       "      <td>0.103139</td>\n",
       "    </tr>\n",
       "    <tr>\n",
       "      <th>18</th>\n",
       "      <td>ENSG00000002016</td>\n",
       "      <td>0.008517</td>\n",
       "      <td>0.111656</td>\n",
       "    </tr>\n",
       "    <tr>\n",
       "      <th>19</th>\n",
       "      <td>ENSG00000002079</td>\n",
       "      <td>0.003958</td>\n",
       "      <td>0.115615</td>\n",
       "    </tr>\n",
       "  </tbody>\n",
       "</table>\n",
       "</div>"
      ],
      "text/plain": [
       "            feature  feat_imp  cumulative\n",
       "0   ENSG00000000003  0.003884    0.003884\n",
       "1   ENSG00000000005  0.024082    0.027966\n",
       "2   ENSG00000000419  0.009035    0.037000\n",
       "3   ENSG00000000457  0.002549    0.039549\n",
       "4   ENSG00000000938  0.001610    0.041159\n",
       "5   ENSG00000000971  0.004449    0.045608\n",
       "6   ENSG00000001036  0.003999    0.049608\n",
       "7   ENSG00000001084  0.006312    0.055920\n",
       "8   ENSG00000001167  0.007765    0.063685\n",
       "9   ENSG00000001460  0.003687    0.067372\n",
       "10  ENSG00000001461  0.000158    0.067530\n",
       "11  ENSG00000001497  0.003314    0.070844\n",
       "12  ENSG00000001561  0.004038    0.074882\n",
       "13  ENSG00000001617  0.001321    0.076202\n",
       "14  ENSG00000001626  0.004916    0.081119\n",
       "15  ENSG00000001629  0.005416    0.086534\n",
       "16  ENSG00000001630  0.011798    0.098333\n",
       "17  ENSG00000001631  0.004807    0.103139\n",
       "18  ENSG00000002016  0.008517    0.111656\n",
       "19  ENSG00000002079  0.003958    0.115615"
      ]
     },
     "execution_count": 84,
     "metadata": {},
     "output_type": "execute_result"
    }
   ],
   "source": [
    "## Using logistic regression (our best model) to obtain the top 20 metrics\n",
    "\n",
    "model = log_reg_0\n",
    "feature_df=pd.DataFrame({'feature':list(X_train_1.columns),'feat_imp':[abs(i) for i in model.coef_[0]]})\n",
    "feature_df.sort_values('feat_imp',ascending=False)\n",
    "feature_df['cumulative'] = 0\n",
    "\n",
    "feature_df['cumulative'][0] = feature_df['cumulative'][0] + feature_df['feat_imp'][0]\n",
    "\n",
    "for i in tqdm(range(1,len(feature_df))):\n",
    "    feature_df['cumulative'][i] = feature_df['feat_imp'][i] + feature_df['cumulative'][i-1]\n",
    "\n",
    "    \n",
    "feature_df.head(20)"
   ]
  },
  {
   "cell_type": "code",
   "execution_count": 137,
   "id": "69419f14-9140-4f3e-ac60-da4feb741c47",
   "metadata": {},
   "outputs": [
    {
     "data": {
      "text/plain": [
       "<matplotlib.collections.LineCollection at 0x259a1d0f0a0>"
      ]
     },
     "execution_count": 137,
     "metadata": {},
     "output_type": "execute_result"
    },
    {
     "data": {
      "image/png": "[encoded data removed]",
      "text/plain": [
       "<Figure size 1152x288 with 1 Axes>"
      ]
     },
     "metadata": {
      "needs_background": "light"
     },
     "output_type": "display_data"
    }
   ],
   "source": [
    "## Feature importance vs no. of features (using logistic regression)\n",
    "# ~15000 features contribute to 80% feature importance\n",
    "\n",
    "sum_imp = feature_df['feat_imp'].sum()\n",
    "data = feature_df.cumulative\n",
    "plt.figure(figsize = (16,4))\n",
    "plt.plot(data/sum_imp)\n",
    "plt.hlines(0.8,0,15000, label =\"80% feature importance\",linestyles = \"dashed\",color = 'orange')\n",
    "plt.hlines(0.5,0,10000, label =\"50% feature importance\",linestyles = \"dashed\",color = 'orange')"
   ]
  },
  {
   "cell_type": "code",
   "execution_count": 154,
   "id": "b5d8b17a-f557-4967-92aa-964bbe55484b",
   "metadata": {},
   "outputs": [
    {
     "name": "stdout",
     "output_type": "stream",
     "text": [
      "0.7995495495495495\n"
     ]
    }
   ],
   "source": [
    "## Selecting features that contribute to 80% of the feature importance for training the model. Accuracy of the trained model has not decreased\n",
    "#significantly.\n",
    "\n",
    "feature_select = list(feature_df['feature'].head(5000))\n",
    "\n",
    "X_train_2 = X_train_1.copy()\n",
    "X_train_2 = X_train_2.loc[:, feature_select]\n",
    "\n",
    "log_reg_1 = LogisticRegression(random_state=10,max_iter=10000)\n",
    "log_reg_1.fit(X_train_2, y_train_1)\n",
    "scores = cross_val_score(log_reg_1, X_train_2, y_train_1, cv=2)\n",
    "print(scores.mean())"
   ]
  },
  {
   "cell_type": "code",
   "execution_count": 124,
   "id": "5d2b2692-43b1-48ad-81e7-211b3b1e12fa",
   "metadata": {
    "tags": []
   },
   "outputs": [
    {
     "name": "stdout",
     "output_type": "stream",
     "text": [
      "0.49774774774774777\n"
     ]
    }
   ],
   "source": [
    "## Y- randomization - shuffled Y labels in the training data. Much lower accuracy than the true training data set. Shows that results\n",
    "# are not random guesses\n",
    "\n",
    "import random\n",
    "\n",
    "random.seed(37)\n",
    "l2 = list(y_train_1)\n",
    "random.shuffle(l2)\n",
    "\n",
    "log_reg_random = LogisticRegression(random_state=10,max_iter=10000)\n",
    "log_reg_random.fit(X_train_1, l2)\n",
    "scores_random = cross_val_score(log_reg_random, X_train_1, l2, cv=2)\n",
    "print(scores_random.mean())"
   ]
  },
  {
   "cell_type": "code",
   "execution_count": 53,
   "id": "7e393b13-29d9-4807-8ba8-047e9919f772",
   "metadata": {},
   "outputs": [
    {
     "data": {
      "image/png": "[encoded data removed]",
      "text/plain": [
       "<Figure size 864x360 with 1 Axes>"
      ]
     },
     "metadata": {
      "needs_background": "light"
     },
     "output_type": "display_data"
    }
   ],
   "source": [
    "## Visualizing the training dataset using PCA - no clear separation\n",
    "\n",
    "from sklearn.decomposition import PCA\n",
    "pca = PCA(n_components = 2)\n",
    "\n",
    "pca_function = pca.fit_transform(X_train_1)\n",
    "pca_df = pd.DataFrame(data = pca_function, columns = ['PC 1', 'PC 2'])\n",
    "\n",
    "target = y_train_1\n",
    "fig = plt.figure(figsize = (12,5))\n",
    "axis = fig.add_subplot(1,1,1) \n",
    "axis.set_xlabel('PC 1', fontsize = 14)\n",
    "axis.set_ylabel('PC 2', fontsize = 14)\n",
    "axis.scatter(pca_df['PC 1'], pca_df['PC 2'], c=list(target) ,cmap='cool')\n",
    "plt.grid()\n",
    "plt.legend(list(target), loc = 9, mode = 'expand', ncol=5)\n",
    "plt.show()"
   ]
  },
  {
   "cell_type": "code",
   "execution_count": 127,
   "id": "3d7f930a-b54b-47ab-9932-8cd8ec83a202",
   "metadata": {},
   "outputs": [
    {
     "data": {
      "image/png": "[encoded data removed]",
      "text/plain": [
       "<Figure size 864x360 with 1 Axes>"
      ]
     },
     "metadata": {
      "needs_background": "light"
     },
     "output_type": "display_data"
    }
   ],
   "source": [
    "## Also trying it on the test data set. No separation here either\n",
    "\n",
    "X_test_with_prediction_output\n",
    "\n",
    "pca = PCA(n_components = 2)\n",
    "\n",
    "pca_function = pca.fit_transform(X_test_1)\n",
    "pca_df = pd.DataFrame(data = pca_function, columns = ['PC 1', 'PC 2'])\n",
    "\n",
    "target = y_test\n",
    "fig = plt.figure(figsize = (12,5))\n",
    "axis = fig.add_subplot(1,1,1) \n",
    "axis.set_xlabel('PC 1', fontsize = 14)\n",
    "axis.set_ylabel('PC 2', fontsize = 14)\n",
    "axis.scatter(pca_df['PC 1'], pca_df['PC 2'], c=list(target) ,cmap='cool')\n",
    "plt.grid()\n",
    "plt.legend(list(target), loc = 0, mode = 'expand', ncol=2)\n",
    "plt.show()"
   ]
  }
 ],
 "metadata": {
  "kernelspec": {
   "display_name": "Python 3 (ipykernel)",
   "language": "python",
   "name": "python3"
  },
  "language_info": {
   "codemirror_mode": {
    "name": "ipython",
    "version": 3
   },
   "file_extension": ".py",
   "mimetype": "text/x-python",
   "name": "python",
   "nbconvert_exporter": "python",
   "pygments_lexer": "ipython3",
   "version": "3.9.12"
  }
 },
 "nbformat": 4,
 "nbformat_minor": 5
}
