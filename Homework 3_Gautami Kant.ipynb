{
 "cells": [
  {
   "cell_type": "markdown",
   "id": "f1f6370d-d0f2-44dc-9ea2-9250f469ad76",
   "metadata": {},
   "source": [
    "Lab3: Wide data and linear models\n",
    "You are provided with a dataset for 554 patients, 80% (444 patients) of the dataset was selected to be the training set, and 20% (110 patients) as the test set. Features and labels of the training set can be found in train_X.csv, train_y.csv respectively. Features of the test set can be found in test_X.csv while labels are hidden.\n",
    "\n",
    "Your task is to predict the disease type (phenotype) from transcriptomics data. Disease: UCEC (uterine corpus endometrial carcinoma). Labels (1/0) are encoding tumor grade “II-” vs. “III+”\n",
    "\n",
    "Specific tasks:\n",
    "Please use binary classification (0/1) using linear models. Measure the classification performance using accuracy and F1-score on the given validation set. Please report averaged values.\n",
    "Develop a pipeline to try different linear models (linear regression, logistic regression, Ridge regression, LASSO, etc.)\n",
    "Study the effect of regularization parameters on model performance. What model is the best?\n",
    "Compare your best model accuracy with random guessing (Hint: scramble labels aka Y-randomization)\n",
    "What are the top important genes for the model decision?\n",
    "Try to visualize the dataset and see if you could visually separate two groups of patients\n",
    "Bonus Qs:\n",
    "You could use https://www.uniprot.org/Links to an external site, and search for Gene IDs. See if there is a meaningful connection between the top 10 most important genes and disease. Did your model recapitulate of the known association between Genes and Disease?"
   ]
  },
  {
   "cell_type": "code",
   "execution_count": 269,
   "id": "8dbb2f9d-cd74-4be0-b859-f9ceeefaeb18",
   "metadata": {},
   "outputs": [],
   "source": [
    "import pandas as pd\n",
    "import numpy as np\n",
    "import matplotlib.pyplot as plt\n",
    "import seaborn as sns\n",
    "from sklearn import metrics\n",
    "from sklearn import preprocessing\n",
    "from sklearn.feature_selection import SelectKBest, mutual_info_classif, chi2\n",
    "from sklearn.linear_model import LogisticRegression\n",
    "from sklearn.linear_model import LinearRegression\n",
    "from sklearn.linear_model import Ridge\n"
   ]
  },
  {
   "cell_type": "code",
   "execution_count": 218,
   "id": "5c318550-b301-4430-9a82-8a00225e3ff8",
   "metadata": {},
   "outputs": [],
   "source": [
    " # Loading the csv files\n",
    "X_train = pd.read_csv(r\"C:\\Users\\kantg\\OneDrive\\Desktop\\CMU\\ML for Science\\HW 3\\train_X.csv\")\n",
    "y_train = pd.read_csv(r\"C:\\Users\\kantg\\OneDrive\\Desktop\\CMU\\ML for Science\\HW 3\\train_y.csv\")\n",
    "X_test = pd.read_csv(r\"C:\\Users\\kantg\\OneDrive\\Desktop\\CMU\\ML for Science\\HW 3\\test_X.csv\")"
   ]
  },
  {
   "cell_type": "code",
   "execution_count": 219,
   "id": "f389d4b4-30ba-4043-b216-e9e4159b3c16",
   "metadata": {
    "tags": []
   },
   "outputs": [
    {
     "name": "stdout",
     "output_type": "stream",
     "text": [
      "Nulls in X_train is  0\n",
      "Nulls in y_train is  0\n",
      "Nulls in X_test is  0\n",
      "Non-numeric columns in X_train are ['Unnamed: 0']\n",
      "Non-numeric columns in y_train are ['Unnamed: 0']\n",
      "Non-numeric columns in X_test are ['Unnamed: 0']\n"
     ]
    }
   ],
   "source": [
    "# Checking for nulls. No nulls in the training and test data set\n",
    "print(\"Nulls in X_train is \", X_train.isna().sum().sum())\n",
    "print(\"Nulls in y_train is \", y_train.isna().sum().sum())\n",
    "print(\"Nulls in X_test is \", X_test.isna().sum().sum())\n",
    "\n",
    "#Checking for non-integer columns. Looks like only the identifier column has object data type\n",
    "print(\"Non-numeric columns in X_train are\", X_train.select_dtypes(include=['object']).columns.tolist())\n",
    "print(\"Non-numeric columns in y_train are\", y_train.select_dtypes(include=['object']).columns.tolist())\n",
    "print(\"Non-numeric columns in X_test are\", X_test.select_dtypes(include=['object']).columns.tolist())"
   ]
  },
  {
   "cell_type": "code",
   "execution_count": 220,
   "id": "0ecb7709-6354-4803-9a16-ea5190b186e8",
   "metadata": {
    "tags": []
   },
   "outputs": [
    {
     "name": "stdout",
     "output_type": "stream",
     "text": [
      "<class 'pandas.core.frame.DataFrame'>\n",
      "RangeIndex: 444 entries, 0 to 443\n",
      "Data columns (total 2 columns):\n",
      " #   Column                         Non-Null Count  Dtype \n",
      "---  ------                         --------------  ----- \n",
      " 0   Unnamed: 0                     444 non-null    object\n",
      " 1   xml_neoplasm_histologic_grade  444 non-null    int64 \n",
      "dtypes: int64(1), object(1)\n",
      "memory usage: 7.1+ KB\n",
      "                               Unnamed: 0\n",
      "xml_neoplasm_histologic_grade            \n",
      "0                                     190\n",
      "1                                     254\n"
     ]
    }
   ],
   "source": [
    "#Exploring the y_train data\n",
    "y_train.info()\n",
    "# Classes are not imbalanced. Overall % - 0 (43%) and 1 (57%) ----- INCLUDE CODE FOR THIS!!!\n",
    "print(y_train.groupby(['xml_neoplasm_histologic_grade']).count())\n",
    "\n",
    "#Scaling the training and test data set\n",
    "X_train_1 = X_train.iloc[:,1:]\n",
    "scaler = preprocessing.StandardScaler().fit(X_train_1)\n",
    "X_train_1 = pd.DataFrame(scaler.transform(X_train_1),columns= X_train_1.columns, index = X_train_1.index) \n",
    "\n",
    "X_test_1 = X_test.iloc[:,1:]\n",
    "scaler = preprocessing.StandardScaler().fit(X_test_1)\n",
    "X_test_1 = pd.DataFrame(scaler.transform(X_test_1),columns= X_test_1.columns, index = X_test_1.index) \n",
    "\n",
    "\n",
    "y_train_1 = y_train.iloc[:,1]\n"
   ]
  },
  {
   "cell_type": "code",
   "execution_count": 221,
   "id": "9a8b9531-dedc-4b17-8dce-b4013111bfab",
   "metadata": {},
   "outputs": [],
   "source": [
    "# Logistic regression\n",
    "\n",
    "log_reg = LogisticRegression(random_state=6,max_iter=200)\n",
    "log_reg.fit(X_train_1, y_train_1)\n",
    "\n",
    "#Predicting the test set results\n",
    "y_test = log_reg.predict(X_test_1)\n",
    "\n",
    "# Output to a csv file\n",
    "X_test_with_prediction = X_test\n",
    "X_test_with_prediction['xml_neoplasm_histologic_grade'] = y_test\n",
    "X_test_with_prediction_output =  X_test_with_prediction.iloc[:, [0, -1]]\n",
    "X_test_with_prediction_output = X_test_with_prediction_output.rename(columns={'Unnamed: 0' : 'ID'})\n",
    "X_test_with_prediction_output.to_csv(r'C:\\Users\\kantg\\OneDrive\\Desktop\\CMU\\ML for Science\\HW 3\\Output\\X_test_with_prediction_output.csv',index=None, header=True)\n"
   ]
  },
  {
   "cell_type": "code",
   "execution_count": 225,
   "id": "bf4c2374-783c-4230-879a-5c1f173f7d68",
   "metadata": {},
   "outputs": [
    {
     "data": {
      "image/png": "[encoded data removed]",
      "text/plain": [
       "<Figure size 432x288 with 1 Axes>"
      ]
     },
     "metadata": {
      "needs_background": "light"
     },
     "output_type": "display_data"
    }
   ],
   "source": [
    "# Linear Regression\n",
    "\n",
    "lin_reg = LinearRegression()\n",
    "lin_reg.fit(X_train_1, y_train_1)\n",
    "\n",
    "#Predicting the test set results\n",
    "y_test = lin_reg.predict(X_test_1)\n",
    "plot_1 = plt.hist(y_test, bins = 10)\n",
    "# Setting the threshold to decide 0/1 classifier\n",
    "y_test = np.where(y_test < 0.5, 0 , 1) #86.56\n",
    "#y_test = np.where(y_test < 0.6, 0 , 1) #85.24\n",
    "#y_test = np.where(y_test < 0.4, 0 , 1) #86.56\n",
    "\n",
    "plot_2 = plt.hist(y_test)\n",
    "\n",
    "\n",
    "#Output to a csv file\n",
    "X_test_with_prediction = X_test\n",
    "X_test_with_prediction['xml_neoplasm_histologic_grade'] = y_test\n",
    "X_test_with_prediction_output =  X_test_with_prediction.iloc[:, [0, -1]]\n",
    "X_test_with_prediction_output = X_test_with_prediction_output.rename(columns={'Unnamed: 0' : 'ID'})\n",
    "X_test_with_prediction_output.to_csv(r'C:\\Users\\kantg\\OneDrive\\Desktop\\CMU\\ML for Science\\HW 3\\Output\\X_test_with_prediction_output.csv',index=None, header=True)\n",
    "\n"
   ]
  },
  {
   "cell_type": "code",
   "execution_count": 258,
   "id": "eea8a552-88b6-4772-a442-4c5b6be1616d",
   "metadata": {},
   "outputs": [
    {
     "data": {
      "image/png": "[encoded data removed]",
      "text/plain": [
       "<Figure size 432x288 with 1 Axes>"
      ]
     },
     "metadata": {
      "needs_background": "light"
     },
     "output_type": "display_data"
    }
   ],
   "source": [
    "# Ridge Regression\n",
    "\n",
    "rid_reg = Ridge(alpha = 0.75)\n",
    "rid_reg.fit(X_train_1, y_train_1)\n",
    "\n",
    "#Predicting the test set results\n",
    "y_test = lin_reg.predict(X_test_1)\n",
    "plot_1 = plt.hist(y_test, bins = 10)\n",
    "\n",
    "\n",
    "# Setting the threshold to decide 0/1 classifier\n",
    "y_test = np.where(y_test < 0.6, 0 ,1) #86.56\n",
    "plot_2 = plt.hist(y_test)\n",
    "\n",
    "#Output to a csv file\n",
    "X_test_with_prediction = X_test\n",
    "X_test_with_prediction['xml_neoplasm_histologic_grade'] = y_test\n",
    "X_test_with_prediction_output =  X_test_with_prediction.iloc[:, [0, -1]]\n",
    "X_test_with_prediction_output = X_test_with_prediction_output.rename(columns={'Unnamed: 0' : 'ID'})\n",
    "X_test_with_prediction_output.to_csv(r'C:\\Users\\kantg\\OneDrive\\Desktop\\CMU\\ML for Science\\HW 3\\Output\\X_test_with_prediction_output.csv',index=None, header=True)\n"
   ]
  },
  {
   "cell_type": "code",
   "execution_count": 272,
   "id": "60407fe8-0a02-4fa6-97db-3f06f28de261",
   "metadata": {},
   "outputs": [],
   "source": [
    "#Select top 1000 features based on SelectKBest mutual info classification (other score functions: chi2 etc.)\n",
    "\n",
    "X_train_Kbest_1 = SelectKBest(score_func = mutual_info_classif, k=1000)\n",
    "X_train_Kbest_1.fit(X_train_1, y_train_1)\n",
    "X_train_Kbest_1_columns = X_train_1.columns[X_train_Kbest_1.get_support()]"
   ]
  },
  {
   "cell_type": "code",
   "execution_count": null,
   "id": "8363e27e-272d-465d-8067-ae6dc78795e1",
   "metadata": {},
   "outputs": [],
   "source": []
  }
 ],
 "metadata": {
  "kernelspec": {
   "display_name": "Python 3 (ipykernel)",
   "language": "python",
   "name": "python3"
  },
  "language_info": {
   "codemirror_mode": {
    "name": "ipython",
    "version": 3
   },
   "file_extension": ".py",
   "mimetype": "text/x-python",
   "name": "python",
   "nbconvert_exporter": "python",
   "pygments_lexer": "ipython3",
   "version": "3.9.12"
  }
 },
 "nbformat": 4,
 "nbformat_minor": 5
}
